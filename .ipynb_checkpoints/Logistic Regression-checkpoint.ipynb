{
 "cells": [
  {
   "cell_type": "markdown",
   "metadata": {},
   "source": [
    "# Logistic regression"
   ]
  },
  {
   "cell_type": "markdown",
   "metadata": {},
   "source": [
    "In this notebook we will study **Logistic Regression**.\n",
    "We will make some interactive graphs that let us see how it works.\n",
    "\n",
    "We will use interactive Jupyter widgets and the libraries **matplotlib** and **bqplot** for visualizations\n",
    "\n",
    "To obtain more info you can read these posts [SPANISH]:\n",
    "\n",
    "\n",
    "**Author**: Pablo González Carrizo ([unmonoqueteclea](https://twitter.com/unmonoqueteclea))\n",
    "\n",
    "**Web**: https://unmonoqueteclea.github.io"
   ]
  },
  {
   "cell_type": "markdown",
   "metadata": {},
   "source": [
    "### Importing dependencies"
   ]
  },
  {
   "cell_type": "code",
   "execution_count": 1,
   "metadata": {
    "collapsed": true
   },
   "outputs": [],
   "source": [
    "import math\n",
    "import numpy as np\n",
    "from bqplot import ( LinearScale, Axis, Scatter, Lines, Label, Figure)\n",
    "from ipywidgets import HBox, VBox, Layout\n",
    "import pandas as pd\n",
    "from scipy import special\n",
    "from sklearn import preprocessing "
   ]
  },
  {
   "cell_type": "markdown",
   "metadata": {},
   "source": [
    "### Defining sigmoid function"
   ]
  },
  {
   "cell_type": "code",
   "execution_count": 2,
   "metadata": {
    "collapsed": true
   },
   "outputs": [],
   "source": [
    "def sigmoid(z):\n",
    "    return(1 / (1 + np.exp(-z)))"
   ]
  },
  {
   "cell_type": "code",
   "execution_count": 3,
   "metadata": {
    "collapsed": true
   },
   "outputs": [],
   "source": [
    "x_values = np.arange(-8,8)\n",
    "test_sigmoid=[sigmoid(z) for z in x_values ]"
   ]
  },
  {
   "cell_type": "markdown",
   "metadata": {},
   "source": [
    "Plotting the sigmoid function with bqplot"
   ]
  },
  {
   "cell_type": "code",
   "execution_count": 4,
   "metadata": {},
   "outputs": [
    {
     "data": {
      "application/vnd.jupyter.widget-view+json": {
       "model_id": "16b9868617594971a944abfeab21f99c",
       "version_major": 2,
       "version_minor": 0
      },
      "text/plain": [
       "A Jupyter Widget"
      ]
     },
     "metadata": {},
     "output_type": "display_data"
    }
   ],
   "source": [
    "#Scalers\n",
    "sc_x = LinearScale()\n",
    "sc_y = LinearScale()\n",
    "#Axis\n",
    "ax_x = Axis(scale=sc_x, label='')\n",
    "ax_y = Axis(scale=sc_y, orientation='vertical', tick_format='0.2f', label='')\n",
    "#Creating the graph\n",
    "line = Lines(x=x_values,y=test_sigmoid,scales={'x': sc_x, 'y': sc_y},colors=['blue'])\n",
    "fig = Figure(marks=[line], axes=[ax_x, ax_y],layout=Layout(width='100%'), title=\"Sigmoid function\")\n",
    "#Displaying the graph\n",
    "VBox([fig])"
   ]
  },
  {
   "cell_type": "markdown",
   "metadata": {
    "collapsed": true
   },
   "source": [
    "### Creating points"
   ]
  },
  {
   "cell_type": "code",
   "execution_count": 5,
   "metadata": {},
   "outputs": [],
   "source": [
    "#(CLASS Y = 1) Positions of points with y = 1\n",
    "posX1 = np.array([10,45,23,12,3 ,18,30,35, 5,32])\n",
    "posY1 = np.array([12,16,20,60,80,99,54, 9,40,65])\n",
    "#Creating matrix from positions\n",
    "X1 = np.c_[np.ones(posX1.shape[0]),posX1,posY1]\n",
    "#(CLASS Y = 0) Positions of points with y = 0\n",
    "posX2 = np.array([67,53,90,87,71,59,95,80,65,80])\n",
    "posY2 = np.array([34,67,54,8, 78,87,80,50,60,90])\n",
    "#Creating matrix from positions\n",
    "X2 = np.c_[np.ones(posX2.shape[0]),posX2,posY2]\n",
    "\n",
    "X=np.concatenate([X1,X2])\n",
    "#Classes (1 or 0)\n",
    "y=np.concatenate([np.ones(posX1.shape[0]),np.zeros(posX2.shape[0])])\n",
    "m = y.size # Number of training examples"
   ]
  },
  {
   "cell_type": "markdown",
   "metadata": {},
   "source": [
    "### Plot function"
   ]
  },
  {
   "cell_type": "code",
   "execution_count": 6,
   "metadata": {
    "collapsed": true
   },
   "outputs": [],
   "source": [
    "def plot_points(x1,x2,y1,y2,x3=[],y3=[],title=\"\",boundary=None):\n",
    "    #Scalers\n",
    "    sc_x = LinearScale(min=0,max=100)\n",
    "    sc_y = LinearScale(min=0,max=100)\n",
    "    #Axis\n",
    "    ax_x = Axis(scale=sc_x, label='')\n",
    "    ax_y = Axis(scale=sc_y, orientation='vertical', tick_format='0.2f', label='')\n",
    "    #Creating plot\n",
    "    scatt =  Scatter(x=x1, y=y1, scales={'x': sc_x, 'y': sc_y}, colors=['red'])\n",
    "    scatt2 = Scatter(x=x2, y=y2, scales={'x': sc_x, 'y': sc_y}, colors=['blue'])\n",
    "    marks = [scatt,scatt2]\n",
    "    if(len(y3)>0):\n",
    "        scatt3 = Scatter(x=x3, y=y3, scales={'x': sc_x, 'y': sc_y}, colors=['green'])\n",
    "        marks.append(scatt3)\n",
    "    if(boundary is None):\n",
    "        fig = Figure(marks=marks, axes=[ax_x, ax_y],layout=Layout(width='100%'), title=title)\n",
    "    else:\n",
    "        lines = Lines(x=boundary[0],y=boundary[1],scales={'x': sc_x, 'y': sc_y},colors=['green'])\n",
    "        fig = Figure(marks=[scatt,scatt2,lines], axes=[ax_x, ax_y],layout=Layout(width='100%'), title=title)\n",
    "    return fig"
   ]
  },
  {
   "cell_type": "markdown",
   "metadata": {},
   "source": [
    "### Displying plot with all the points"
   ]
  },
  {
   "cell_type": "code",
   "execution_count": 7,
   "metadata": {},
   "outputs": [
    {
     "data": {
      "application/vnd.jupyter.widget-view+json": {
       "model_id": "710257c41a7643bb84842ee3bc3be1bb",
       "version_major": 2,
       "version_minor": 0
      },
      "text/plain": [
       "A Jupyter Widget"
      ]
     },
     "metadata": {},
     "output_type": "display_data"
    }
   ],
   "source": [
    "fig = plot_points(posX1,posX2,posY1,posY2,title=\"\")\n",
    "HBox([fig])"
   ]
  },
  {
   "cell_type": "markdown",
   "metadata": {},
   "source": [
    "### Creating Hypotesis and Cost function"
   ]
  },
  {
   "cell_type": "code",
   "execution_count": 8,
   "metadata": {
    "collapsed": true
   },
   "outputs": [],
   "source": [
    "#Hypotesis function\n",
    "def h(mytheta,myX): \n",
    "    return sigmoid(np.dot(myX,mytheta))\n",
    "\n",
    "#Cost function\n",
    "def computeCost(mytheta,myX,myy,regularization = 0.): \n",
    "    term1 = np.dot( -np.array(myy).T , np.log(h(mytheta,myX)) )\n",
    "    term2 = np.dot( (1-np.array(myy)).T , np.log(1-h(mytheta,myX)) )\n",
    "    regterm = (regularization/2) * np.sum(np.dot(mytheta[1:].T,mytheta[1:])) #Skip theta0\n",
    "    return float( (1./m) * ( np.sum(term1 - term2) + regterm ) )"
   ]
  },
  {
   "cell_type": "code",
   "execution_count": 9,
   "metadata": {},
   "outputs": [
    {
     "data": {
      "text/plain": [
       "0.6931471805599453"
      ]
     },
     "execution_count": 9,
     "metadata": {},
     "output_type": "execute_result"
    }
   ],
   "source": [
    "initial_theta = np.zeros((X.shape[1],1))\n",
    "computeCost(initial_theta,X,y)"
   ]
  },
  {
   "cell_type": "markdown",
   "metadata": {},
   "source": [
    "### Minimizing cost function"
   ]
  },
  {
   "cell_type": "code",
   "execution_count": 10,
   "metadata": {
    "collapsed": true
   },
   "outputs": [],
   "source": [
    "#optimize.fmin function minimizes the cost function with the \"downhill simplex algorithm.\"\n",
    "#http://docs.scipy.org/doc/scipy-0.16.0/reference/generated/scipy.optimize.fmin.html\n",
    "from scipy import optimize\n",
    "def optimizeTheta(mytheta,myX,myy,mylambda=0.):\n",
    "    result = optimize.fmin(computeCost, x0=mytheta, args=(myX, myy, mylambda), maxiter=400, full_output=True)\n",
    "    return result[0], result[1]\n"
   ]
  },
  {
   "cell_type": "code",
   "execution_count": 11,
   "metadata": {},
   "outputs": [
    {
     "name": "stdout",
     "output_type": "stream",
     "text": [
      "Optimization terminated successfully.\n",
      "         Current function value: 0.000032\n",
      "         Iterations: 198\n",
      "         Function evaluations: 348\n"
     ]
    },
    {
     "name": "stderr",
     "output_type": "stream",
     "text": [
      "C:\\Users\\Pablo\\Anaconda3\\envs\\ML\\lib\\site-packages\\ipykernel_launcher.py:8: RuntimeWarning: divide by zero encountered in log\n",
      "  \n"
     ]
    }
   ],
   "source": [
    "theta, mincost = optimizeTheta(initial_theta,X,y)"
   ]
  },
  {
   "cell_type": "markdown",
   "metadata": {},
   "source": [
    "### Representing cost function"
   ]
  },
  {
   "cell_type": "code",
   "execution_count": 12,
   "metadata": {},
   "outputs": [
    {
     "data": {
      "application/vnd.jupyter.widget-view+json": {
       "model_id": "606e7ba6c9074bf48c0e9078d9517537",
       "version_major": 2,
       "version_minor": 0
      },
      "text/plain": [
       "A Jupyter Widget"
      ]
     },
     "metadata": {},
     "output_type": "display_data"
    }
   ],
   "source": [
    "h_example = np.arange(0.0001,1,0.001)\n",
    "# Computing cost\n",
    "cost1 = [-math.log(h_value,10) for h_value in h_example]\n",
    "cost2=[-math.log(1-h_value,10) for h_value in h_example]\n",
    "#Scalers\n",
    "sc_x = LinearScale()\n",
    "sc_y = LinearScale()\n",
    "#Axis\n",
    "ax_x = Axis(scale=sc_x, label='h(x)')\n",
    "ax_y = Axis(scale=sc_y, orientation='vertical', tick_format='0.2f', label='Cost')\n",
    "#Creating the graph\n",
    "line1 = Lines(x=h_example,y=cost1,scales={'x': sc_x, 'y': sc_y},colors=['blue'])\n",
    "fig1 = Figure(marks=[line1], axes=[ax_x, ax_y],layout=Layout(width='100%'), title=\"y=1\")\n",
    "line2 = Lines(x=h_example,y=cost2,scales={'x': sc_x, 'y': sc_y},colors=['blue'])\n",
    "fig2 = Figure(marks=[line2], axes=[ax_x, ax_y],layout=Layout(width='100%'), title=\"y=0\")\n",
    "#Displaying the graph\n",
    "HBox([fig1,fig2])"
   ]
  },
  {
   "cell_type": "code",
   "execution_count": 13,
   "metadata": {
    "collapsed": true
   },
   "outputs": [],
   "source": [
    "def decission_boundary(mytheta):\n",
    "    boundary_xs = np.array([np.min(X[:,1]), np.max(X[:,1])])\n",
    "    boundary_ys = (-1./theta[2])*(theta[0] + theta[1]*boundary_xs)\n",
    "    return (boundary_xs,boundary_ys)\n",
    "    "
   ]
  },
  {
   "cell_type": "code",
   "execution_count": 14,
   "metadata": {},
   "outputs": [
    {
     "data": {
      "application/vnd.jupyter.widget-view+json": {
       "model_id": "ba9e04d8f83b4fedb5e483620d5a0f2d",
       "version_major": 2,
       "version_minor": 0
      },
      "text/plain": [
       "A Jupyter Widget"
      ]
     },
     "metadata": {},
     "output_type": "display_data"
    }
   ],
   "source": [
    "fig = plot_points(posX1,posX2,posY1,posY2,title=\"\",boundary=decission_boundary(theta))\n",
    "HBox([fig])"
   ]
  },
  {
   "cell_type": "markdown",
   "metadata": {},
   "source": [
    "## Multiclass classification"
   ]
  },
  {
   "cell_type": "markdown",
   "metadata": {},
   "source": [
    "### Creating points for 3 classes"
   ]
  },
  {
   "cell_type": "code",
   "execution_count": 15,
   "metadata": {},
   "outputs": [],
   "source": [
    "#(CLASS Y = 2) Positions of points with y = 2\n",
    "posX2 = np.array([26,5,29,8,47,30,19,48,25,10])\n",
    "posY2 = np.array([30,16,25,8,17,18,21,15,20,0])\n",
    "#Creating matrix from positions\n",
    "X2 = np.c_[np.ones(posX2.shape[0]),posX2,posY2]\n",
    "\n",
    "#(CLASS Y = 1) Positions of points with y = 1\n",
    "posX1 = np.array([10,45,23,12,3 ,18,30,35, 5,32])\n",
    "posY1 = np.array([42,76,50,80,70,99,54, 56,40,65])\n",
    "#Creating matrix from positions\n",
    "X1 = np.c_[np.ones(posX1.shape[0]),posX1,posY1]\n",
    "\n",
    "#(CLASS Y = 0) Positions of points with y = 0\n",
    "posX0 = np.array([67,53,90,87,71,59,95,80,65,80])\n",
    "posY0 = np.array([34,67,54,88, 78,87,80,50,60,90])\n",
    "#Creating matrix from positions\n",
    "X0 = np.c_[np.ones(posX0.shape[0]),posX0,posY0]\n",
    "\n",
    "X=np.concatenate([X2,X1,X0])\n",
    "#Classes (2, 1 or 0)\n",
    "y=np.concatenate([2*np.ones(posX1.shape[0]),np.ones(posX1.shape[0]),np.zeros(posX0.shape[0])])\n",
    "m = y.size # Number of training examples"
   ]
  },
  {
   "cell_type": "code",
   "execution_count": 16,
   "metadata": {},
   "outputs": [
    {
     "data": {
      "application/vnd.jupyter.widget-view+json": {
       "model_id": "dd26311b49844c45b73ec3c1ffd71030",
       "version_major": 2,
       "version_minor": 0
      },
      "text/plain": [
       "A Jupyter Widget"
      ]
     },
     "metadata": {},
     "output_type": "display_data"
    }
   ],
   "source": [
    "fig = plot_points(posX1,posX2,posY1,posY2,posX0,posY0,title=\"\")\n",
    "HBox([fig])"
   ]
  },
  {
   "cell_type": "code",
   "execution_count": 17,
   "metadata": {
    "collapsed": true
   },
   "outputs": [],
   "source": [
    "all_thetas = []"
   ]
  },
  {
   "cell_type": "markdown",
   "metadata": {},
   "source": [
    "### Clasificador 1"
   ]
  },
  {
   "cell_type": "code",
   "execution_count": 18,
   "metadata": {},
   "outputs": [
    {
     "name": "stdout",
     "output_type": "stream",
     "text": [
      "Optimization terminated successfully.\n",
      "         Current function value: 0.001474\n",
      "         Iterations: 218\n",
      "         Function evaluations: 392\n"
     ]
    },
    {
     "name": "stderr",
     "output_type": "stream",
     "text": [
      "C:\\Users\\Pablo\\Anaconda3\\envs\\ML\\lib\\site-packages\\ipykernel_launcher.py:8: RuntimeWarning: divide by zero encountered in log\n",
      "  \n"
     ]
    },
    {
     "data": {
      "application/vnd.jupyter.widget-view+json": {
       "model_id": "46d4d4bbb6724edc997ab9611095ea59",
       "version_major": 2,
       "version_minor": 0
      },
      "text/plain": [
       "A Jupyter Widget"
      ]
     },
     "metadata": {},
     "output_type": "display_data"
    }
   ],
   "source": [
    "y1=np.concatenate([np.ones(posX1.shape[0]), np.zeros(2*posX0.shape[0])])\n",
    "initial_theta = np.zeros((X.shape[1],1))\n",
    "theta, mincost = optimizeTheta(initial_theta,X,y1)\n",
    "fig = plot_points(np.concatenate([posX1,posX0]),posX2,np.concatenate([posY1,posY0]),posY2,title=\"\",boundary=decission_boundary(theta))\n",
    "all_thetas.append(theta)\n",
    "HBox([fig])"
   ]
  },
  {
   "cell_type": "markdown",
   "metadata": {},
   "source": [
    "### Clasificador 2"
   ]
  },
  {
   "cell_type": "code",
   "execution_count": 19,
   "metadata": {},
   "outputs": [
    {
     "name": "stdout",
     "output_type": "stream",
     "text": [
      "Optimization terminated successfully.\n",
      "         Current function value: 0.061475\n",
      "         Iterations: 195\n",
      "         Function evaluations: 350\n"
     ]
    },
    {
     "name": "stderr",
     "output_type": "stream",
     "text": [
      "C:\\Users\\Pablo\\Anaconda3\\envs\\ML\\lib\\site-packages\\ipykernel_launcher.py:8: RuntimeWarning: divide by zero encountered in log\n",
      "  \n"
     ]
    },
    {
     "data": {
      "application/vnd.jupyter.widget-view+json": {
       "model_id": "437ad6684a50411a97fb6291995328a0",
       "version_major": 2,
       "version_minor": 0
      },
      "text/plain": [
       "A Jupyter Widget"
      ]
     },
     "metadata": {},
     "output_type": "display_data"
    }
   ],
   "source": [
    "y1=np.concatenate([np.zeros(posX0.shape[0]), np.ones(posX1.shape[0]), np.zeros(posX0.shape[0])])\n",
    "initial_theta = np.zeros((X.shape[1],1))\n",
    "theta, mincost = optimizeTheta(initial_theta,X,y1)\n",
    "fig = plot_points(np.concatenate([posX2,posX0]),posX1,np.concatenate([posY2,posY0]),posY1,title=\"\",boundary=decission_boundary(theta))\n",
    "all_thetas.append(theta)\n",
    "HBox([fig])"
   ]
  },
  {
   "cell_type": "markdown",
   "metadata": {},
   "source": [
    "### Clasificador 3"
   ]
  },
  {
   "cell_type": "code",
   "execution_count": 20,
   "metadata": {},
   "outputs": [
    {
     "name": "stderr",
     "output_type": "stream",
     "text": [
      "C:\\Users\\Pablo\\Anaconda3\\envs\\ML\\lib\\site-packages\\ipykernel_launcher.py:8: RuntimeWarning: divide by zero encountered in log\n",
      "  \n"
     ]
    },
    {
     "name": "stdout",
     "output_type": "stream",
     "text": [
      "Optimization terminated successfully.\n",
      "         Current function value: 0.004202\n",
      "         Iterations: 265\n",
      "         Function evaluations: 457\n"
     ]
    },
    {
     "data": {
      "application/vnd.jupyter.widget-view+json": {
       "model_id": "e32b41c54c51405081e3015e2f02629e",
       "version_major": 2,
       "version_minor": 0
      },
      "text/plain": [
       "A Jupyter Widget"
      ]
     },
     "metadata": {},
     "output_type": "display_data"
    }
   ],
   "source": [
    "y1=np.concatenate([np.zeros(2*posX1.shape[0]), np.ones(posX0.shape[0])])\n",
    "initial_theta = np.zeros((X.shape[1],1))\n",
    "theta, mincost = optimizeTheta(initial_theta,X,y1)\n",
    "fig = plot_points(np.concatenate([posX2,posX1]),posX0,np.concatenate([posY2,posY1]),posY0,title=\"\",boundary=decission_boundary(theta))\n",
    "all_thetas.append(theta)\n",
    "HBox([fig])"
   ]
  },
  {
   "cell_type": "markdown",
   "metadata": {},
   "source": [
    "### Making some predictions"
   ]
  },
  {
   "cell_type": "code",
   "execution_count": 31,
   "metadata": {},
   "outputs": [
    {
     "name": "stdout",
     "output_type": "stream",
     "text": [
      "Predicted class for: [30, 10]: 0\n",
      "Predicted class for: [30, 70]: 1\n",
      "Predicted class for: [80, 10]: 2\n"
     ]
    }
   ],
   "source": [
    "exampleX=[1,30,10]\n",
    "predictions = [ h(all_thetas[i],exampleX) for i in range(3)]\n",
    "print(\"Predicted class for: \"+str(exampleX[1:3])+\": \"+str(predictions.index(max(predictions))))\n",
    "\n",
    "exampleX=[1,30,70]\n",
    "predictions = [ h(all_thetas[i],exampleX) for i in range(3)]\n",
    "print(\"Predicted class for: \"+str(exampleX[1:3])+\": \"+str(predictions.index(max(predictions))))\n",
    "\n",
    "\n",
    "exampleX=[1,80,10]\n",
    "predictions = [ h(all_thetas[i],exampleX) for i in range(3)]\n",
    "print(\"Predicted class for: \"+str(exampleX[1:3])+\": \"+str(predictions.index(max(predictions))))"
   ]
  },
  {
   "cell_type": "code",
   "execution_count": null,
   "metadata": {
    "collapsed": true
   },
   "outputs": [],
   "source": []
  }
 ],
 "metadata": {
  "kernelspec": {
   "display_name": "Python 3",
   "language": "python",
   "name": "python3"
  },
  "language_info": {
   "codemirror_mode": {
    "name": "ipython",
    "version": 3
   },
   "file_extension": ".py",
   "mimetype": "text/x-python",
   "name": "python",
   "nbconvert_exporter": "python",
   "pygments_lexer": "ipython3",
   "version": "3.6.2"
  }
 },
 "nbformat": 4,
 "nbformat_minor": 2
}
